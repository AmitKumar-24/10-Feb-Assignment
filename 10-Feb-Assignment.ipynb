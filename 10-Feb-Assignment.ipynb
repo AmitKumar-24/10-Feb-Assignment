{
 "cells": [
  {
   "cell_type": "markdown",
   "id": "bd4d5d6f-0e60-4ede-a0e2-f4e1eccb0f6c",
   "metadata": {},
   "source": [
    "Q1. Which function is used to open a file? What are the different modes of opening a file? Explain each mode  of file opening. "
   ]
  },
  {
   "cell_type": "markdown",
   "id": "c78ae6ed-179c-473b-b178-63f952e96099",
   "metadata": {},
   "source": [
    "the open() function is used to open a file. This function returns a file object and takes two arguments, one that accepts the file name and another that accepts the mode."
   ]
  },
  {
   "cell_type": "markdown",
   "id": "254942d6-14ed-4fdf-be56-2513aa77b76a",
   "metadata": {},
   "source": [
    "there are 6 modes of opening a file and their explanation\n",
    "\n",
    "1.Read Only ('r'): Open text file for reading. The handle is positioned at the beginning of the file. If the file does not exist, raises an I/O error. This is also the default mode in which the file is opened.\n",
    "\n",
    "2.Read and Write ('r+'): Open the file for reading and writing. The handle is positioned at the beginning of the file. Raises I/O error if the file does not exist.\n",
    "\n",
    "3.Write Only ('w'): Open the file for writing. For the existing files, the data is truncated and over-written. The handle is positioned at the beginning of the file. Creates the file if the file does not exist.\n",
    "\n",
    "4.Write and Read ('w+'): Open the file for reading and writing. For existing files, data is truncated and over-written. The handle is positioned at the beginning of the file.\n",
    "\n",
    "5.Append Only ('a'): Open the file for writing. The file is created if it does not exist. The handle is positioned at the end of the file. The data being written will be inserted at the end, after the existing data.\n",
    "\n",
    "6.Append and Read ('a+'): Open the file for reading and writing. The file is created if it does not exist. The handle is positioned at the end of the file. The data being written will be inserted at the end, after the existing data."
   ]
  },
  {
   "cell_type": "markdown",
   "id": "a041f023-1a07-4c1c-886b-4b666efd47b2",
   "metadata": {},
   "source": [
    "Q2. Why close() function is used? Why is it important to close a file? "
   ]
  },
  {
   "cell_type": "markdown",
   "id": "1a5b607e-7fe8-4f34-8d7a-c25d2c38b11d",
   "metadata": {},
   "source": [
    "The close() function is used to closes an open file. You should always close your files, in some cases, due to buffering, changes made to a file may not show until you close the file.\n",
    "\n",
    "Syntax: file.close()"
   ]
  },
  {
   "cell_type": "markdown",
   "id": "dbfad1a3-7b07-44d8-a9db-c4be9ebb90d5",
   "metadata": {},
   "source": [
    "It is important for close a file Because files are limited resources managed by the operating system, making sure files are closed after use will protect against hard-to-debug issues like running out of file handles or experiencing corrupted data. The best defense is always to open files with a context manager."
   ]
  },
  {
   "cell_type": "markdown",
   "id": "0414a29b-feef-4c20-a5c5-eeee5e813d02",
   "metadata": {},
   "source": [
    "Q3. Write a python program to create a text file. Write ‘I want to become a Data Scientist’ in that file. Then  close the file. Open this file and read the content of the file.   "
   ]
  },
  {
   "cell_type": "code",
   "execution_count": 1,
   "id": "b6942881-228e-43a1-9835-d43d51a38cf9",
   "metadata": {},
   "outputs": [],
   "source": [
    "file = open('test.txt', 'w') "
   ]
  },
  {
   "cell_type": "code",
   "execution_count": 2,
   "id": "12f6e47d-230e-42f4-b196-b334d21a0fb4",
   "metadata": {},
   "outputs": [
    {
     "data": {
      "text/plain": [
       "33"
      ]
     },
     "execution_count": 2,
     "metadata": {},
     "output_type": "execute_result"
    }
   ],
   "source": [
    "file.write('I want to become a Data Scientist')"
   ]
  },
  {
   "cell_type": "code",
   "execution_count": 3,
   "id": "eb6155b5-6c13-4398-8d30-f740a55c9ae1",
   "metadata": {},
   "outputs": [],
   "source": [
    "file.close()"
   ]
  },
  {
   "cell_type": "code",
   "execution_count": 4,
   "id": "d47647f2-d52a-4945-81f4-97fe405fa624",
   "metadata": {},
   "outputs": [],
   "source": [
    "file = open('test.txt', 'r')"
   ]
  },
  {
   "cell_type": "code",
   "execution_count": 5,
   "id": "375be294-1bbc-4d3e-a3eb-ed6726b8d936",
   "metadata": {},
   "outputs": [
    {
     "data": {
      "text/plain": [
       "'I want to become a Data Scientist'"
      ]
     },
     "execution_count": 5,
     "metadata": {},
     "output_type": "execute_result"
    }
   ],
   "source": [
    "file.read()"
   ]
  },
  {
   "cell_type": "markdown",
   "id": "8db12cdf-45af-40fb-bc08-de164b9e2431",
   "metadata": {},
   "source": [
    "Q4. Explain the following with python code: read(), readline() and readlines(). "
   ]
  },
  {
   "cell_type": "markdown",
   "id": "82a294b9-33d3-46ca-b27d-8449984a1ea7",
   "metadata": {},
   "source": [
    "The read() method returns the specified number of bytes from the file. Default is -1 which means the whole file."
   ]
  },
  {
   "cell_type": "code",
   "execution_count": 6,
   "id": "afe3dab6-47a5-4ffc-996a-b59e8a0dd7cd",
   "metadata": {},
   "outputs": [
    {
     "name": "stdout",
     "output_type": "stream",
     "text": [
      "I want to become a Data Scientist\n"
     ]
    }
   ],
   "source": [
    "file = open(\"test.txt\", \"r\")\n",
    "\n",
    "print(file.read())"
   ]
  },
  {
   "cell_type": "markdown",
   "id": "033f4042-4fed-45e1-a242-46c788f46fd1",
   "metadata": {},
   "source": [
    "readline() method will return a line from the file when called."
   ]
  },
  {
   "cell_type": "code",
   "execution_count": 7,
   "id": "64c9d36b-c01b-4776-a5f0-97b6a95d4004",
   "metadata": {},
   "outputs": [
    {
     "name": "stdout",
     "output_type": "stream",
     "text": [
      "I want to become a Data Scientist\n"
     ]
    }
   ],
   "source": [
    "file = open(\"test.txt\", \"r\")\n",
    "\n",
    "print(file.readline())"
   ]
  },
  {
   "cell_type": "markdown",
   "id": "966ed036-c2f8-4ec4-942e-c3dbb4e01bf8",
   "metadata": {},
   "source": [
    "readlines() method will return all the lines in a file in the format of a list where each element is a line in the file."
   ]
  },
  {
   "cell_type": "code",
   "execution_count": 9,
   "id": "4054eacf-db9c-44da-ac62-5ac97d5f337a",
   "metadata": {},
   "outputs": [
    {
     "name": "stdout",
     "output_type": "stream",
     "text": [
      "['I want to become a Data Scientist']\n"
     ]
    }
   ],
   "source": [
    "file = open(\"test.txt\", \"r\")\n",
    "\n",
    "print(file.readlines())"
   ]
  },
  {
   "cell_type": "markdown",
   "id": "3ae36216-ad9a-4b54-891e-d6bfba6a8ca7",
   "metadata": {},
   "source": [
    "Q5. Explain why with statement is used with open(). What is the advantage of using with statement and  open() together? "
   ]
  },
  {
   "cell_type": "markdown",
   "id": "980da9a4-e75a-4090-95f1-b3e545ead1d6",
   "metadata": {},
   "source": [
    "We can use with statement in Python such that we don’t have to close the file handler. The with statement creates a context manager and it will automatically close the file handler for you when you are done with it. Here is an example using with statement to read all lines of a file.\n",
    "\n",
    "\t\n",
    "with open(filename,'r') as f\n",
    "\n",
    "     all_lines = f.readlines()"
   ]
  },
  {
   "cell_type": "markdown",
   "id": "2bbf01bb-7871-42d3-994c-3f0f4ab8a37e",
   "metadata": {},
   "source": [
    "the advantages of using with means that the file will be closed as soon as you leave the block. This is beneficial because closing a file is something that can easily be forgotten and ties up resources that you no longer need. it will more beneficial when you are working with database connections"
   ]
  },
  {
   "cell_type": "markdown",
   "id": "93dbb390-200a-44f2-9855-81f220ac22d6",
   "metadata": {},
   "source": [
    "Q6. Explain the write() and writelines() functions. Give a suitable example. "
   ]
  },
  {
   "cell_type": "markdown",
   "id": "ab8fc0af-0a8f-40ad-b4a6-0526dda75901",
   "metadata": {},
   "source": [
    "The write() function will write the content in the file without adding any extra characters.\n",
    "\n",
    "syntax -> \n",
    "file_name.write(content) \n",
    "\n",
    "As per the syntax, the string that is passed to the write() function is written into the opened file. The string may include numbers, special characters, or symbols. While writing data to a file, we must know that the write function does not add a newline character(\\n) to the end of the string. The write() function returns None.\n"
   ]
  },
  {
   "cell_type": "code",
   "execution_count": 10,
   "id": "d19f7ce5-320c-478a-8853-e64cf22b6f0c",
   "metadata": {},
   "outputs": [
    {
     "name": "stdin",
     "output_type": "stream",
     "text": [
      "Enter the name of the employee:  ram\n",
      "Enter the name of the employee:  sham\n",
      "Enter the name of the employee:  rajesh\n"
     ]
    },
    {
     "name": "stdout",
     "output_type": "stream",
     "text": [
      "Data is written into the file.\n"
     ]
    }
   ],
   "source": [
    "file = open(\"student.txt\", \"w\")\n",
    "  \n",
    "for i in range(3):\n",
    "    name = input(\"Enter the name of the employee: \")\n",
    "    file.write(name)\n",
    "    file.write(\"\\n\")\n",
    "     \n",
    "file.close()\n",
    "  \n",
    "print(\"Data is written into the file.\")"
   ]
  },
  {
   "cell_type": "markdown",
   "id": "8d159ba9-b307-4849-a9c3-60f79fdb9575",
   "metadata": {},
   "source": [
    "writelines() function writes the content of a list to a file.\n",
    "\n",
    "syntax -> file_name.writelines(list_of_lines)\n",
    "\n",
    "As per the syntax, the list of strings that is passed to the writelines() function is written into the opened file. Similar to the write() function, the writelines() function does not add a newline character(\\n) to the end of the string.\n"
   ]
  },
  {
   "cell_type": "code",
   "execution_count": 11,
   "id": "24846402-8595-4fe0-83a2-6aa873c9e632",
   "metadata": {},
   "outputs": [
    {
     "name": "stdin",
     "output_type": "stream",
     "text": [
      "Enter the name of the employee:  sudh\n",
      "Enter the name of the employee:  ramesh\n",
      "Enter the name of the employee:  jack\n"
     ]
    },
    {
     "name": "stdout",
     "output_type": "stream",
     "text": [
      "Data is written into the file.\n"
     ]
    }
   ],
   "source": [
    "file1 = open(\"student.txt\", \"w\")\n",
    "lst = []\n",
    "for i in range(3):\n",
    "    name = input(\"Enter the name of the employee: \")\n",
    "    lst.append(name + '\\n')\n",
    "      \n",
    "file1.writelines(lst)\n",
    "file1.close()\n",
    "print(\"Data is written into the file.\") "
   ]
  },
  {
   "cell_type": "markdown",
   "id": "21f912a6-2069-4dc1-a6bc-09e4b827e2fd",
   "metadata": {},
   "source": [
    "The only difference between the write() and writelines() is that write() is used to write a string to an already opened file while writelines() method is used to write a list of strings in an opened file."
   ]
  },
  {
   "cell_type": "code",
   "execution_count": null,
   "id": "561c3cd9-a370-4e65-8189-810afd5ab88a",
   "metadata": {},
   "outputs": [],
   "source": []
  }
 ],
 "metadata": {
  "kernelspec": {
   "display_name": "Python 3 (ipykernel)",
   "language": "python",
   "name": "python3"
  },
  "language_info": {
   "codemirror_mode": {
    "name": "ipython",
    "version": 3
   },
   "file_extension": ".py",
   "mimetype": "text/x-python",
   "name": "python",
   "nbconvert_exporter": "python",
   "pygments_lexer": "ipython3",
   "version": "3.10.8"
  }
 },
 "nbformat": 4,
 "nbformat_minor": 5
}
